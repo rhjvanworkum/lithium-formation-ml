{
 "cells": [
  {
   "cell_type": "code",
   "execution_count": 2,
   "metadata": {},
   "outputs": [],
   "source": [
    "import pandas as pd\n",
    "import tensorflow as tf\n",
    "import gpflow\n",
    "from pymatgen.ext.matproj import MPRester\n",
    "from matminer.featurizers.conversions import StrToComposition\n",
    "from matminer.featurizers.composition import ElementProperty\n",
    "from matminer.featurizers.structure.matrix import SineCoulombMatrix\n",
    "\n",
    "from sklearn.preprocessing import StandardScaler\n",
    "from sklearn.model_selection import train_test_split\n",
    "from sklearn.metrics import r2_score, mean_squared_error, mean_absolute_error\n",
    "from sklearn.ensemble import RandomForestRegressor\n",
    "\n",
    "import numpy as np\n",
    "import matplotlib.pyplot as plt\n",
    "\n",
    "api_key = 'vitvGcsFqw8QTTDZ5L'"
   ]
  },
  {
   "cell_type": "markdown",
   "metadata": {},
   "source": [
    "### Getting some data"
   ]
  },
  {
   "cell_type": "code",
   "execution_count": 93,
   "metadata": {},
   "outputs": [
    {
     "data": {
      "application/vnd.jupyter.widget-view+json": {
       "model_id": "f0c4eadd56724f4cbbbff4875787396f",
       "version_major": 2,
       "version_minor": 0
      },
      "text/plain": [
       "  0%|          | 0/19480 [00:00<?, ?it/s]"
      ]
     },
     "metadata": {},
     "output_type": "display_data"
    }
   ],
   "source": [
    "criteria = {\"elements\": {\"$all\": [\"Li\"]}}\n",
    "properties = [\"material_id\", 'formula', 'spacegroup.symbol', 'cif', \"formation_energy_per_atom\"] \n",
    "\n",
    "with MPRester(api_key) as m:\n",
    "    data = m.query(criteria=criteria,properties=properties)\n",
    "    \n",
    "data = pd.DataFrame(data)"
   ]
  },
  {
   "cell_type": "code",
   "execution_count": 94,
   "metadata": {},
   "outputs": [
    {
     "data": {
      "text/html": [
       "<div>\n",
       "<style scoped>\n",
       "    .dataframe tbody tr th:only-of-type {\n",
       "        vertical-align: middle;\n",
       "    }\n",
       "\n",
       "    .dataframe tbody tr th {\n",
       "        vertical-align: top;\n",
       "    }\n",
       "\n",
       "    .dataframe thead th {\n",
       "        text-align: right;\n",
       "    }\n",
       "</style>\n",
       "<table border=\"1\" class=\"dataframe\">\n",
       "  <thead>\n",
       "    <tr style=\"text-align: right;\">\n",
       "      <th></th>\n",
       "      <th>material_id</th>\n",
       "      <th>formula</th>\n",
       "      <th>spacegroup.symbol</th>\n",
       "      <th>cif</th>\n",
       "      <th>formation_energy_per_atom</th>\n",
       "    </tr>\n",
       "  </thead>\n",
       "  <tbody>\n",
       "    <tr>\n",
       "      <th>0</th>\n",
       "      <td>mp-10173</td>\n",
       "      <td>{'Li': 1.0}</td>\n",
       "      <td>P6_3/mmc</td>\n",
       "      <td># generated using pymatgen\\ndata_Li\\n_symmetry...</td>\n",
       "      <td>0.002524</td>\n",
       "    </tr>\n",
       "    <tr>\n",
       "      <th>1</th>\n",
       "      <td>mp-1018134</td>\n",
       "      <td>{'Li': 1.0}</td>\n",
       "      <td>R-3m</td>\n",
       "      <td># generated using pymatgen\\ndata_Li\\n_symmetry...</td>\n",
       "      <td>0.000000</td>\n",
       "    </tr>\n",
       "    <tr>\n",
       "      <th>2</th>\n",
       "      <td>mp-567337</td>\n",
       "      <td>{'Li': 1.0}</td>\n",
       "      <td>I-43d</td>\n",
       "      <td># generated using pymatgen\\ndata_Li\\n_symmetry...</td>\n",
       "      <td>0.010352</td>\n",
       "    </tr>\n",
       "    <tr>\n",
       "      <th>3</th>\n",
       "      <td>mp-1063005</td>\n",
       "      <td>{'Li': 1.0}</td>\n",
       "      <td>P6/mmm</td>\n",
       "      <td># generated using pymatgen\\ndata_Li\\n_symmetry...</td>\n",
       "      <td>0.018578</td>\n",
       "    </tr>\n",
       "    <tr>\n",
       "      <th>4</th>\n",
       "      <td>mp-976411</td>\n",
       "      <td>{'Li': 1.0}</td>\n",
       "      <td>P6_3/mmc</td>\n",
       "      <td># generated using pymatgen\\ndata_Li\\n_symmetry...</td>\n",
       "      <td>0.002798</td>\n",
       "    </tr>\n",
       "  </tbody>\n",
       "</table>\n",
       "</div>"
      ],
      "text/plain": [
       "  material_id      formula spacegroup.symbol  \\\n",
       "0    mp-10173  {'Li': 1.0}          P6_3/mmc   \n",
       "1  mp-1018134  {'Li': 1.0}              R-3m   \n",
       "2   mp-567337  {'Li': 1.0}             I-43d   \n",
       "3  mp-1063005  {'Li': 1.0}            P6/mmm   \n",
       "4   mp-976411  {'Li': 1.0}          P6_3/mmc   \n",
       "\n",
       "                                                 cif  \\\n",
       "0  # generated using pymatgen\\ndata_Li\\n_symmetry...   \n",
       "1  # generated using pymatgen\\ndata_Li\\n_symmetry...   \n",
       "2  # generated using pymatgen\\ndata_Li\\n_symmetry...   \n",
       "3  # generated using pymatgen\\ndata_Li\\n_symmetry...   \n",
       "4  # generated using pymatgen\\ndata_Li\\n_symmetry...   \n",
       "\n",
       "   formation_energy_per_atom  \n",
       "0                   0.002524  \n",
       "1                   0.000000  \n",
       "2                   0.010352  \n",
       "3                   0.018578  \n",
       "4                   0.002798  "
      ]
     },
     "execution_count": 94,
     "metadata": {},
     "output_type": "execute_result"
    }
   ],
   "source": [
    "data.to_csv('Li_materials.csv')\n",
    "data.head(5)"
   ]
  },
  {
   "cell_type": "markdown",
   "metadata": {},
   "source": [
    "### What kind of descriptors should we use?"
   ]
  },
  {
   "cell_type": "markdown",
   "metadata": {},
   "source": [
    "#### Let's start with a compositional descriptor"
   ]
  },
  {
   "cell_type": "code",
   "execution_count": 39,
   "metadata": {},
   "outputs": [],
   "source": [
    "data = pd.read_csv('Li_materials.csv')"
   ]
  },
  {
   "cell_type": "code",
   "execution_count": 40,
   "metadata": {},
   "outputs": [
    {
     "name": "stderr",
     "output_type": "stream",
     "text": [
      "StrToComposition: 100%|██████████| 19480/19480 [00:14<00:00, 1308.87it/s] \n"
     ]
    }
   ],
   "source": [
    "import ast\n",
    "chemical_formulas = [''.join([key + str(int(val)) for key, val in ast.literal_eval(formula).items()]) for formula in data[\"formula\"]]\n",
    "data.insert(loc=2, column='chemical_formula', value=chemical_formulas)\n",
    "data = StrToComposition().featurize_dataframe(data, \"chemical_formula\", ignore_errors=True)"
   ]
  },
  {
   "cell_type": "code",
   "execution_count": 41,
   "metadata": {},
   "outputs": [
    {
     "name": "stderr",
     "output_type": "stream",
     "text": [
      "ElementProperty: 100%|██████████| 19480/19480 [01:00<00:00, 319.81it/s]\n"
     ]
    }
   ],
   "source": [
    "featurizer = ElementProperty.from_preset(preset_name=\"magpie\")\n",
    "X = featurizer.featurize_dataframe(data, col_id=\"composition\").iloc[:, 8:]"
   ]
  },
  {
   "cell_type": "code",
   "execution_count": 42,
   "metadata": {},
   "outputs": [],
   "source": [
    "X = X.dropna(how='any', axis=1)\n",
    "X.to_csv('Li_materials_elemental_features.csv')"
   ]
  },
  {
   "cell_type": "code",
   "execution_count": 7,
   "metadata": {},
   "outputs": [],
   "source": [
    "x_scaler = StandardScaler()\n",
    "X = x_scaler.fit_transform(X.to_numpy())"
   ]
  },
  {
   "cell_type": "code",
   "execution_count": 8,
   "metadata": {},
   "outputs": [],
   "source": [
    "y = data['formation_energy_per_atom']\n",
    "y_scaler = StandardScaler()\n",
    "y = y_scaler.fit_transform(y.to_numpy().reshape(-1, 1))"
   ]
  },
  {
   "cell_type": "code",
   "execution_count": 65,
   "metadata": {},
   "outputs": [
    {
     "name": "stdout",
     "output_type": "stream",
     "text": [
      "(19480, 132) (19480, 1)\n"
     ]
    }
   ],
   "source": [
    "print(X.shape, y.shape)"
   ]
  },
  {
   "cell_type": "markdown",
   "metadata": {},
   "source": [
    "### lets train a rf model"
   ]
  },
  {
   "cell_type": "code",
   "execution_count": 9,
   "metadata": {},
   "outputs": [
    {
     "name": "stderr",
     "output_type": "stream",
     "text": [
      "D:\\Anaconda3\\envs\\materials\\lib\\site-packages\\ipykernel_launcher.py:4: DataConversionWarning: A column-vector y was passed when a 1d array was expected. Please change the shape of y to (n_samples,), for example using ravel().\n",
      "  after removing the cwd from sys.path.\n"
     ]
    },
    {
     "data": {
      "text/plain": [
       "RandomForestRegressor(n_estimators=500, random_state=128)"
      ]
     },
     "execution_count": 9,
     "metadata": {},
     "output_type": "execute_result"
    }
   ],
   "source": [
    "X_train, X_test, y_train, y_test = train_test_split(X, y, test_size=0.2, random_state=32)\n",
    "\n",
    "rf = RandomForestRegressor(n_estimators=500, random_state=128)\n",
    "rf.fit(X_train,y_train)"
   ]
  },
  {
   "cell_type": "code",
   "execution_count": 10,
   "metadata": {},
   "outputs": [],
   "source": [
    "pred_test = y_scaler.inverse_transform(rf.predict(X_test).reshape(-1, 1))\n",
    "y_test = y_scaler.inverse_transform(y_test.reshape(-1, 1))"
   ]
  },
  {
   "cell_type": "code",
   "execution_count": 11,
   "metadata": {},
   "outputs": [
    {
     "name": "stdout",
     "output_type": "stream",
     "text": [
      "R^2: 0.894 \n",
      " mse: 0.078 eV/atom \n",
      " mae: 0.095 eV/atom\n"
     ]
    }
   ],
   "source": [
    "r2 = r2_score(y_test, pred_test)\n",
    "mse = mean_squared_error(y_test, pred_test)\n",
    "mae = mean_absolute_error(y_test, pred_test)\n",
    "print(f'R^2: {r2:.3f} \\n mse: {mse:.3f} eV/atom \\n mae: {mae:.3f} eV/atom')"
   ]
  },
  {
   "cell_type": "code",
   "execution_count": 12,
   "metadata": {},
   "outputs": [
    {
     "data": {
      "text/plain": [
       "<matplotlib.legend.Legend at 0x268407e6908>"
      ]
     },
     "execution_count": 12,
     "metadata": {},
     "output_type": "execute_result"
    },
    {
     "data": {
      "image/png": "[encoded data removed]",
      "text/plain": [
       "<Figure size 800x500 with 1 Axes>"
      ]
     },
     "metadata": {
      "needs_background": "light"
     },
     "output_type": "display_data"
    }
   ],
   "source": [
    "fig, ax = plt.subplots(figsize=[8,5],dpi=100)\n",
    "ax.scatter(y_test, pred_test, color='blue',label='Test Predictions')\n",
    "acc = np.linspace(min(y),max(y),1000)\n",
    "ax.plot(acc,acc,color='k',label='Accuracy')\n",
    "ax.set_xlabel('Formation energy / atom (eV)')\n",
    "ax.set_ylabel('Formation energy / atom (eV)')\n",
    "plt.legend()"
   ]
  },
  {
   "cell_type": "markdown",
   "metadata": {},
   "source": [
    "### This works not that well, but it's not quite the 0.03 eV that is considered chemical accuracy"
   ]
  },
  {
   "cell_type": "code",
   "execution_count": 10,
   "metadata": {},
   "outputs": [],
   "source": [
    "X_train, X_test, y_train, y_test = train_test_split(X, y, test_size=0.2, random_state=32)"
   ]
  },
  {
   "cell_type": "code",
   "execution_count": 11,
   "metadata": {},
   "outputs": [
    {
     "ename": "ResourceExhaustedError",
     "evalue": " OOM when allocating tensor with shape[15584,15584] and type double on /job:localhost/replica:0/task:0/device:GPU:0 by allocator GPU_0_bfc\n\t [[node gradient_tape/eye/diag\n (defined at D:\\Anaconda3\\envs\\materials\\lib\\site-packages\\gpflow\\optimizers\\scipy.py:225)\n]]\nHint: If you want to see a list of allocated tensors when OOM happens, add report_tensor_allocations_upon_oom to RunOptions for current allocation info. This isn't available when running in Eager mode.\n [Op:__inference__tf_eval_555]\n\nErrors may have originated from an input operation.\nInput Source operations connected to node gradient_tape/eye/diag:\nIn[0] gradient_tape/eye/ones:\t\nIn[1] gradient_tape/eye/diag/k:\t\nIn[2] gradient_tape/eye/diag/num_rows:\t\nIn[3] gradient_tape/eye/diag/num_cols:\t\nIn[4] gradient_tape/eye/diag/padding_value:\n\nOperation defined at: (most recent call last)\n>>>   File \"D:\\Anaconda3\\envs\\materials\\lib\\runpy.py\", line 193, in _run_module_as_main\n>>>     \"__main__\", mod_spec)\n>>> \n>>>   File \"D:\\Anaconda3\\envs\\materials\\lib\\runpy.py\", line 85, in _run_code\n>>>     exec(code, run_globals)\n>>> \n>>>   File \"D:\\Anaconda3\\envs\\materials\\lib\\site-packages\\ipykernel_launcher.py\", line 16, in <module>\n>>>     app.launch_new_instance()\n>>> \n>>>   File \"D:\\Anaconda3\\envs\\materials\\lib\\site-packages\\traitlets\\config\\application.py\", line 846, in launch_instance\n>>>     app.start()\n>>> \n>>>   File \"D:\\Anaconda3\\envs\\materials\\lib\\site-packages\\ipykernel\\kernelapp.py\", line 677, in start\n>>>     self.io_loop.start()\n>>> \n>>>   File \"D:\\Anaconda3\\envs\\materials\\lib\\site-packages\\tornado\\platform\\asyncio.py\", line 199, in start\n>>>     self.asyncio_loop.run_forever()\n>>> \n>>>   File \"D:\\Anaconda3\\envs\\materials\\lib\\asyncio\\base_events.py\", line 541, in run_forever\n>>>     self._run_once()\n>>> \n>>>   File \"D:\\Anaconda3\\envs\\materials\\lib\\asyncio\\base_events.py\", line 1786, in _run_once\n>>>     handle._run()\n>>> \n>>>   File \"D:\\Anaconda3\\envs\\materials\\lib\\asyncio\\events.py\", line 88, in _run\n>>>     self._context.run(self._callback, *self._args)\n>>> \n>>>   File \"D:\\Anaconda3\\envs\\materials\\lib\\site-packages\\ipykernel\\kernelbase.py\", line 461, in dispatch_queue\n>>>     await self.process_one()\n>>> \n>>>   File \"D:\\Anaconda3\\envs\\materials\\lib\\site-packages\\ipykernel\\kernelbase.py\", line 450, in process_one\n>>>     await dispatch(*args)\n>>> \n>>>   File \"D:\\Anaconda3\\envs\\materials\\lib\\site-packages\\ipykernel\\kernelbase.py\", line 357, in dispatch_shell\n>>>     await result\n>>> \n>>>   File \"D:\\Anaconda3\\envs\\materials\\lib\\site-packages\\ipykernel\\kernelbase.py\", line 652, in execute_request\n>>>     reply_content = await reply_content\n>>> \n>>>   File \"D:\\Anaconda3\\envs\\materials\\lib\\site-packages\\ipykernel\\ipkernel.py\", line 353, in do_execute\n>>>     res = shell.run_cell(code, store_history=store_history, silent=silent)\n>>> \n>>>   File \"D:\\Anaconda3\\envs\\materials\\lib\\site-packages\\ipykernel\\zmqshell.py\", line 532, in run_cell\n>>>     return super().run_cell(*args, **kwargs)\n>>> \n>>>   File \"D:\\Anaconda3\\envs\\materials\\lib\\site-packages\\IPython\\core\\interactiveshell.py\", line 2915, in run_cell\n>>>     raw_cell, store_history, silent, shell_futures)\n>>> \n>>>   File \"D:\\Anaconda3\\envs\\materials\\lib\\site-packages\\IPython\\core\\interactiveshell.py\", line 2960, in _run_cell\n>>>     return runner(coro)\n>>> \n>>>   File \"D:\\Anaconda3\\envs\\materials\\lib\\site-packages\\IPython\\core\\async_helpers.py\", line 78, in _pseudo_sync_runner\n>>>     coro.send(None)\n>>> \n>>>   File \"D:\\Anaconda3\\envs\\materials\\lib\\site-packages\\IPython\\core\\interactiveshell.py\", line 3186, in run_cell_async\n>>>     interactivity=interactivity, compiler=compiler, result=result)\n>>> \n>>>   File \"D:\\Anaconda3\\envs\\materials\\lib\\site-packages\\IPython\\core\\interactiveshell.py\", line 3377, in run_ast_nodes\n>>>     if (await self.run_code(code, result,  async_=asy)):\n>>> \n>>>   File \"D:\\Anaconda3\\envs\\materials\\lib\\site-packages\\IPython\\core\\interactiveshell.py\", line 3457, in run_code\n>>>     exec(code_obj, self.user_global_ns, self.user_ns)\n>>> \n>>>   File \"C:\\Users\\rhjva\\AppData\\Local\\Temp\\ipykernel_27708\\2416576693.py\", line 5, in <module>\n>>>     optimizer.minimize(closure, model.trainable_variables, options=dict(maxiter=10000))\n>>> \n>>>   File \"D:\\Anaconda3\\envs\\materials\\lib\\site-packages\\gpflow\\optimizers\\scipy.py\", line 96, in minimize\n>>>     func, initial_params, jac=True, method=method, **scipy_kwargs\n>>> \n>>>   File \"D:\\Anaconda3\\envs\\materials\\lib\\site-packages\\scipy\\optimize\\_minimize.py\", line 624, in minimize\n>>>     callback=callback, **options)\n>>> \n>>>   File \"D:\\Anaconda3\\envs\\materials\\lib\\site-packages\\scipy\\optimize\\lbfgsb.py\", line 308, in _minimize_lbfgsb\n>>>     finite_diff_rel_step=finite_diff_rel_step)\n>>> \n>>>   File \"D:\\Anaconda3\\envs\\materials\\lib\\site-packages\\scipy\\optimize\\optimize.py\", line 262, in _prepare_scalar_function\n>>>     finite_diff_rel_step, bounds, epsilon=epsilon)\n>>> \n>>>   File \"D:\\Anaconda3\\envs\\materials\\lib\\site-packages\\scipy\\optimize\\_differentiable_functions.py\", line 140, in __init__\n>>>     self._update_fun()\n>>> \n>>>   File \"D:\\Anaconda3\\envs\\materials\\lib\\site-packages\\scipy\\optimize\\_differentiable_functions.py\", line 233, in _update_fun\n>>>     self._update_fun_impl()\n>>> \n>>>   File \"D:\\Anaconda3\\envs\\materials\\lib\\site-packages\\scipy\\optimize\\_differentiable_functions.py\", line 137, in update_fun\n>>>     self.f = fun_wrapped(self.x)\n>>> \n>>>   File \"D:\\Anaconda3\\envs\\materials\\lib\\site-packages\\scipy\\optimize\\_differentiable_functions.py\", line 134, in fun_wrapped\n>>>     return fun(np.copy(x), *args)\n>>> \n>>>   File \"D:\\Anaconda3\\envs\\materials\\lib\\site-packages\\scipy\\optimize\\optimize.py\", line 74, in __call__\n>>>     self._compute_if_needed(x, *args)\n>>> \n>>>   File \"D:\\Anaconda3\\envs\\materials\\lib\\site-packages\\scipy\\optimize\\optimize.py\", line 68, in _compute_if_needed\n>>>     fg = self.fun(x, *args)\n>>> \n>>>   File \"D:\\Anaconda3\\envs\\materials\\lib\\site-packages\\gpflow\\optimizers\\scipy.py\", line 137, in _eval\n>>>     loss, grad = _tf_eval(tf.convert_to_tensor(x))\n>>> \n>>>   File \"D:\\Anaconda3\\envs\\materials\\lib\\site-packages\\gpflow\\optimizers\\scipy.py\", line 119, in _tf_eval\n>>>     if first_call:\n>>> \n>>>   File \"D:\\Anaconda3\\envs\\materials\\lib\\site-packages\\gpflow\\optimizers\\scipy.py\", line 121, in _tf_eval\n>>>     loss, grads = _compute_loss_and_gradients(\n>>> \n>>>   File \"D:\\Anaconda3\\envs\\materials\\lib\\site-packages\\gpflow\\optimizers\\scipy.py\", line 225, in _compute_loss_and_gradients\n>>>     grads = tape.gradient(loss, variables, unconnected_gradients=unconnected_gradients)\n>>> ",
     "output_type": "error",
     "traceback": [
      "\u001b[1;31m---------------------------------------------------------------------------\u001b[0m",
      "\u001b[1;31mResourceExhaustedError\u001b[0m                    Traceback (most recent call last)",
      "\u001b[1;32m~\\AppData\\Local\\Temp\\ipykernel_27708\\2416576693.py\u001b[0m in \u001b[0;36m<module>\u001b[1;34m\u001b[0m\n\u001b[0;32m      3\u001b[0m \u001b[1;32mdef\u001b[0m \u001b[0mclosure\u001b[0m\u001b[1;33m(\u001b[0m\u001b[1;33m)\u001b[0m\u001b[1;33m:\u001b[0m\u001b[1;33m\u001b[0m\u001b[1;33m\u001b[0m\u001b[0m\n\u001b[0;32m      4\u001b[0m     \u001b[1;32mreturn\u001b[0m \u001b[1;33m-\u001b[0m\u001b[0mmodel\u001b[0m\u001b[1;33m.\u001b[0m\u001b[0mlog_marginal_likelihood\u001b[0m\u001b[1;33m(\u001b[0m\u001b[1;33m)\u001b[0m\u001b[1;33m\u001b[0m\u001b[1;33m\u001b[0m\u001b[0m\n\u001b[1;32m----> 5\u001b[1;33m \u001b[0moptimizer\u001b[0m\u001b[1;33m.\u001b[0m\u001b[0mminimize\u001b[0m\u001b[1;33m(\u001b[0m\u001b[0mclosure\u001b[0m\u001b[1;33m,\u001b[0m \u001b[0mmodel\u001b[0m\u001b[1;33m.\u001b[0m\u001b[0mtrainable_variables\u001b[0m\u001b[1;33m,\u001b[0m \u001b[0moptions\u001b[0m\u001b[1;33m=\u001b[0m\u001b[0mdict\u001b[0m\u001b[1;33m(\u001b[0m\u001b[0mmaxiter\u001b[0m\u001b[1;33m=\u001b[0m\u001b[1;36m10000\u001b[0m\u001b[1;33m)\u001b[0m\u001b[1;33m)\u001b[0m\u001b[1;33m\u001b[0m\u001b[1;33m\u001b[0m\u001b[0m\n\u001b[0m",
      "\u001b[1;32mD:\\Anaconda3\\envs\\materials\\lib\\site-packages\\gpflow\\optimizers\\scipy.py\u001b[0m in \u001b[0;36mminimize\u001b[1;34m(self, closure, variables, method, step_callback, compile, allow_unused_variables, **scipy_kwargs)\u001b[0m\n\u001b[0;32m     94\u001b[0m \u001b[1;33m\u001b[0m\u001b[0m\n\u001b[0;32m     95\u001b[0m         return scipy.optimize.minimize(\n\u001b[1;32m---> 96\u001b[1;33m             \u001b[0mfunc\u001b[0m\u001b[1;33m,\u001b[0m \u001b[0minitial_params\u001b[0m\u001b[1;33m,\u001b[0m \u001b[0mjac\u001b[0m\u001b[1;33m=\u001b[0m\u001b[1;32mTrue\u001b[0m\u001b[1;33m,\u001b[0m \u001b[0mmethod\u001b[0m\u001b[1;33m=\u001b[0m\u001b[0mmethod\u001b[0m\u001b[1;33m,\u001b[0m \u001b[1;33m**\u001b[0m\u001b[0mscipy_kwargs\u001b[0m\u001b[1;33m\u001b[0m\u001b[1;33m\u001b[0m\u001b[0m\n\u001b[0m\u001b[0;32m     97\u001b[0m         )\n\u001b[0;32m     98\u001b[0m \u001b[1;33m\u001b[0m\u001b[0m\n",
      "\u001b[1;32mD:\\Anaconda3\\envs\\materials\\lib\\site-packages\\scipy\\optimize\\_minimize.py\u001b[0m in \u001b[0;36mminimize\u001b[1;34m(fun, x0, args, method, jac, hess, hessp, bounds, constraints, tol, callback, options)\u001b[0m\n\u001b[0;32m    622\u001b[0m     \u001b[1;32melif\u001b[0m \u001b[0mmeth\u001b[0m \u001b[1;33m==\u001b[0m \u001b[1;34m'l-bfgs-b'\u001b[0m\u001b[1;33m:\u001b[0m\u001b[1;33m\u001b[0m\u001b[1;33m\u001b[0m\u001b[0m\n\u001b[0;32m    623\u001b[0m         return _minimize_lbfgsb(fun, x0, args, jac, bounds,\n\u001b[1;32m--> 624\u001b[1;33m                                 callback=callback, **options)\n\u001b[0m\u001b[0;32m    625\u001b[0m     \u001b[1;32melif\u001b[0m \u001b[0mmeth\u001b[0m \u001b[1;33m==\u001b[0m \u001b[1;34m'tnc'\u001b[0m\u001b[1;33m:\u001b[0m\u001b[1;33m\u001b[0m\u001b[1;33m\u001b[0m\u001b[0m\n\u001b[0;32m    626\u001b[0m         return _minimize_tnc(fun, x0, args, jac, bounds, callback=callback,\n",
      "\u001b[1;32mD:\\Anaconda3\\envs\\materials\\lib\\site-packages\\scipy\\optimize\\lbfgsb.py\u001b[0m in \u001b[0;36m_minimize_lbfgsb\u001b[1;34m(fun, x0, args, jac, bounds, disp, maxcor, ftol, gtol, eps, maxfun, maxiter, iprint, callback, maxls, finite_diff_rel_step, **unknown_options)\u001b[0m\n\u001b[0;32m    306\u001b[0m     sf = _prepare_scalar_function(fun, x0, jac=jac, args=args, epsilon=eps,\n\u001b[0;32m    307\u001b[0m                                   \u001b[0mbounds\u001b[0m\u001b[1;33m=\u001b[0m\u001b[0mnew_bounds\u001b[0m\u001b[1;33m,\u001b[0m\u001b[1;33m\u001b[0m\u001b[1;33m\u001b[0m\u001b[0m\n\u001b[1;32m--> 308\u001b[1;33m                                   finite_diff_rel_step=finite_diff_rel_step)\n\u001b[0m\u001b[0;32m    309\u001b[0m \u001b[1;33m\u001b[0m\u001b[0m\n\u001b[0;32m    310\u001b[0m     \u001b[0mfunc_and_grad\u001b[0m \u001b[1;33m=\u001b[0m \u001b[0msf\u001b[0m\u001b[1;33m.\u001b[0m\u001b[0mfun_and_grad\u001b[0m\u001b[1;33m\u001b[0m\u001b[1;33m\u001b[0m\u001b[0m\n",
      "\u001b[1;32mD:\\Anaconda3\\envs\\materials\\lib\\site-packages\\scipy\\optimize\\optimize.py\u001b[0m in \u001b[0;36m_prepare_scalar_function\u001b[1;34m(fun, x0, jac, args, bounds, epsilon, finite_diff_rel_step, hess)\u001b[0m\n\u001b[0;32m    260\u001b[0m     \u001b[1;31m# calculation reduces overall function evaluations.\u001b[0m\u001b[1;33m\u001b[0m\u001b[1;33m\u001b[0m\u001b[1;33m\u001b[0m\u001b[0m\n\u001b[0;32m    261\u001b[0m     sf = ScalarFunction(fun, x0, args, grad, hess,\n\u001b[1;32m--> 262\u001b[1;33m                         finite_diff_rel_step, bounds, epsilon=epsilon)\n\u001b[0m\u001b[0;32m    263\u001b[0m \u001b[1;33m\u001b[0m\u001b[0m\n\u001b[0;32m    264\u001b[0m     \u001b[1;32mreturn\u001b[0m \u001b[0msf\u001b[0m\u001b[1;33m\u001b[0m\u001b[1;33m\u001b[0m\u001b[0m\n",
      "\u001b[1;32mD:\\Anaconda3\\envs\\materials\\lib\\site-packages\\scipy\\optimize\\_differentiable_functions.py\u001b[0m in \u001b[0;36m__init__\u001b[1;34m(self, fun, x0, args, grad, hess, finite_diff_rel_step, finite_diff_bounds, epsilon)\u001b[0m\n\u001b[0;32m    138\u001b[0m \u001b[1;33m\u001b[0m\u001b[0m\n\u001b[0;32m    139\u001b[0m         \u001b[0mself\u001b[0m\u001b[1;33m.\u001b[0m\u001b[0m_update_fun_impl\u001b[0m \u001b[1;33m=\u001b[0m \u001b[0mupdate_fun\u001b[0m\u001b[1;33m\u001b[0m\u001b[1;33m\u001b[0m\u001b[0m\n\u001b[1;32m--> 140\u001b[1;33m         \u001b[0mself\u001b[0m\u001b[1;33m.\u001b[0m\u001b[0m_update_fun\u001b[0m\u001b[1;33m(\u001b[0m\u001b[1;33m)\u001b[0m\u001b[1;33m\u001b[0m\u001b[1;33m\u001b[0m\u001b[0m\n\u001b[0m\u001b[0;32m    141\u001b[0m \u001b[1;33m\u001b[0m\u001b[0m\n\u001b[0;32m    142\u001b[0m         \u001b[1;31m# Gradient evaluation\u001b[0m\u001b[1;33m\u001b[0m\u001b[1;33m\u001b[0m\u001b[1;33m\u001b[0m\u001b[0m\n",
      "\u001b[1;32mD:\\Anaconda3\\envs\\materials\\lib\\site-packages\\scipy\\optimize\\_differentiable_functions.py\u001b[0m in \u001b[0;36m_update_fun\u001b[1;34m(self)\u001b[0m\n\u001b[0;32m    231\u001b[0m     \u001b[1;32mdef\u001b[0m \u001b[0m_update_fun\u001b[0m\u001b[1;33m(\u001b[0m\u001b[0mself\u001b[0m\u001b[1;33m)\u001b[0m\u001b[1;33m:\u001b[0m\u001b[1;33m\u001b[0m\u001b[1;33m\u001b[0m\u001b[0m\n\u001b[0;32m    232\u001b[0m         \u001b[1;32mif\u001b[0m \u001b[1;32mnot\u001b[0m \u001b[0mself\u001b[0m\u001b[1;33m.\u001b[0m\u001b[0mf_updated\u001b[0m\u001b[1;33m:\u001b[0m\u001b[1;33m\u001b[0m\u001b[1;33m\u001b[0m\u001b[0m\n\u001b[1;32m--> 233\u001b[1;33m             \u001b[0mself\u001b[0m\u001b[1;33m.\u001b[0m\u001b[0m_update_fun_impl\u001b[0m\u001b[1;33m(\u001b[0m\u001b[1;33m)\u001b[0m\u001b[1;33m\u001b[0m\u001b[1;33m\u001b[0m\u001b[0m\n\u001b[0m\u001b[0;32m    234\u001b[0m             \u001b[0mself\u001b[0m\u001b[1;33m.\u001b[0m\u001b[0mf_updated\u001b[0m \u001b[1;33m=\u001b[0m \u001b[1;32mTrue\u001b[0m\u001b[1;33m\u001b[0m\u001b[1;33m\u001b[0m\u001b[0m\n\u001b[0;32m    235\u001b[0m \u001b[1;33m\u001b[0m\u001b[0m\n",
      "\u001b[1;32mD:\\Anaconda3\\envs\\materials\\lib\\site-packages\\scipy\\optimize\\_differentiable_functions.py\u001b[0m in \u001b[0;36mupdate_fun\u001b[1;34m()\u001b[0m\n\u001b[0;32m    135\u001b[0m \u001b[1;33m\u001b[0m\u001b[0m\n\u001b[0;32m    136\u001b[0m         \u001b[1;32mdef\u001b[0m \u001b[0mupdate_fun\u001b[0m\u001b[1;33m(\u001b[0m\u001b[1;33m)\u001b[0m\u001b[1;33m:\u001b[0m\u001b[1;33m\u001b[0m\u001b[1;33m\u001b[0m\u001b[0m\n\u001b[1;32m--> 137\u001b[1;33m             \u001b[0mself\u001b[0m\u001b[1;33m.\u001b[0m\u001b[0mf\u001b[0m \u001b[1;33m=\u001b[0m \u001b[0mfun_wrapped\u001b[0m\u001b[1;33m(\u001b[0m\u001b[0mself\u001b[0m\u001b[1;33m.\u001b[0m\u001b[0mx\u001b[0m\u001b[1;33m)\u001b[0m\u001b[1;33m\u001b[0m\u001b[1;33m\u001b[0m\u001b[0m\n\u001b[0m\u001b[0;32m    138\u001b[0m \u001b[1;33m\u001b[0m\u001b[0m\n\u001b[0;32m    139\u001b[0m         \u001b[0mself\u001b[0m\u001b[1;33m.\u001b[0m\u001b[0m_update_fun_impl\u001b[0m \u001b[1;33m=\u001b[0m \u001b[0mupdate_fun\u001b[0m\u001b[1;33m\u001b[0m\u001b[1;33m\u001b[0m\u001b[0m\n",
      "\u001b[1;32mD:\\Anaconda3\\envs\\materials\\lib\\site-packages\\scipy\\optimize\\_differentiable_functions.py\u001b[0m in \u001b[0;36mfun_wrapped\u001b[1;34m(x)\u001b[0m\n\u001b[0;32m    132\u001b[0m             \u001b[1;31m# Overwriting results in undefined behaviour because\u001b[0m\u001b[1;33m\u001b[0m\u001b[1;33m\u001b[0m\u001b[1;33m\u001b[0m\u001b[0m\n\u001b[0;32m    133\u001b[0m             \u001b[1;31m# fun(self.x) will change self.x, with the two no longer linked.\u001b[0m\u001b[1;33m\u001b[0m\u001b[1;33m\u001b[0m\u001b[1;33m\u001b[0m\u001b[0m\n\u001b[1;32m--> 134\u001b[1;33m             \u001b[1;32mreturn\u001b[0m \u001b[0mfun\u001b[0m\u001b[1;33m(\u001b[0m\u001b[0mnp\u001b[0m\u001b[1;33m.\u001b[0m\u001b[0mcopy\u001b[0m\u001b[1;33m(\u001b[0m\u001b[0mx\u001b[0m\u001b[1;33m)\u001b[0m\u001b[1;33m,\u001b[0m \u001b[1;33m*\u001b[0m\u001b[0margs\u001b[0m\u001b[1;33m)\u001b[0m\u001b[1;33m\u001b[0m\u001b[1;33m\u001b[0m\u001b[0m\n\u001b[0m\u001b[0;32m    135\u001b[0m \u001b[1;33m\u001b[0m\u001b[0m\n\u001b[0;32m    136\u001b[0m         \u001b[1;32mdef\u001b[0m \u001b[0mupdate_fun\u001b[0m\u001b[1;33m(\u001b[0m\u001b[1;33m)\u001b[0m\u001b[1;33m:\u001b[0m\u001b[1;33m\u001b[0m\u001b[1;33m\u001b[0m\u001b[0m\n",
      "\u001b[1;32mD:\\Anaconda3\\envs\\materials\\lib\\site-packages\\scipy\\optimize\\optimize.py\u001b[0m in \u001b[0;36m__call__\u001b[1;34m(self, x, *args)\u001b[0m\n\u001b[0;32m     72\u001b[0m     \u001b[1;32mdef\u001b[0m \u001b[0m__call__\u001b[0m\u001b[1;33m(\u001b[0m\u001b[0mself\u001b[0m\u001b[1;33m,\u001b[0m \u001b[0mx\u001b[0m\u001b[1;33m,\u001b[0m \u001b[1;33m*\u001b[0m\u001b[0margs\u001b[0m\u001b[1;33m)\u001b[0m\u001b[1;33m:\u001b[0m\u001b[1;33m\u001b[0m\u001b[1;33m\u001b[0m\u001b[0m\n\u001b[0;32m     73\u001b[0m         \u001b[1;34m\"\"\" returns the the function value \"\"\"\u001b[0m\u001b[1;33m\u001b[0m\u001b[1;33m\u001b[0m\u001b[0m\n\u001b[1;32m---> 74\u001b[1;33m         \u001b[0mself\u001b[0m\u001b[1;33m.\u001b[0m\u001b[0m_compute_if_needed\u001b[0m\u001b[1;33m(\u001b[0m\u001b[0mx\u001b[0m\u001b[1;33m,\u001b[0m \u001b[1;33m*\u001b[0m\u001b[0margs\u001b[0m\u001b[1;33m)\u001b[0m\u001b[1;33m\u001b[0m\u001b[1;33m\u001b[0m\u001b[0m\n\u001b[0m\u001b[0;32m     75\u001b[0m         \u001b[1;32mreturn\u001b[0m \u001b[0mself\u001b[0m\u001b[1;33m.\u001b[0m\u001b[0m_value\u001b[0m\u001b[1;33m\u001b[0m\u001b[1;33m\u001b[0m\u001b[0m\n\u001b[0;32m     76\u001b[0m \u001b[1;33m\u001b[0m\u001b[0m\n",
      "\u001b[1;32mD:\\Anaconda3\\envs\\materials\\lib\\site-packages\\scipy\\optimize\\optimize.py\u001b[0m in \u001b[0;36m_compute_if_needed\u001b[1;34m(self, x, *args)\u001b[0m\n\u001b[0;32m     66\u001b[0m         \u001b[1;32mif\u001b[0m \u001b[1;32mnot\u001b[0m \u001b[0mnp\u001b[0m\u001b[1;33m.\u001b[0m\u001b[0mall\u001b[0m\u001b[1;33m(\u001b[0m\u001b[0mx\u001b[0m \u001b[1;33m==\u001b[0m \u001b[0mself\u001b[0m\u001b[1;33m.\u001b[0m\u001b[0mx\u001b[0m\u001b[1;33m)\u001b[0m \u001b[1;32mor\u001b[0m \u001b[0mself\u001b[0m\u001b[1;33m.\u001b[0m\u001b[0m_value\u001b[0m \u001b[1;32mis\u001b[0m \u001b[1;32mNone\u001b[0m \u001b[1;32mor\u001b[0m \u001b[0mself\u001b[0m\u001b[1;33m.\u001b[0m\u001b[0mjac\u001b[0m \u001b[1;32mis\u001b[0m \u001b[1;32mNone\u001b[0m\u001b[1;33m:\u001b[0m\u001b[1;33m\u001b[0m\u001b[1;33m\u001b[0m\u001b[0m\n\u001b[0;32m     67\u001b[0m             \u001b[0mself\u001b[0m\u001b[1;33m.\u001b[0m\u001b[0mx\u001b[0m \u001b[1;33m=\u001b[0m \u001b[0mnp\u001b[0m\u001b[1;33m.\u001b[0m\u001b[0masarray\u001b[0m\u001b[1;33m(\u001b[0m\u001b[0mx\u001b[0m\u001b[1;33m)\u001b[0m\u001b[1;33m.\u001b[0m\u001b[0mcopy\u001b[0m\u001b[1;33m(\u001b[0m\u001b[1;33m)\u001b[0m\u001b[1;33m\u001b[0m\u001b[1;33m\u001b[0m\u001b[0m\n\u001b[1;32m---> 68\u001b[1;33m             \u001b[0mfg\u001b[0m \u001b[1;33m=\u001b[0m \u001b[0mself\u001b[0m\u001b[1;33m.\u001b[0m\u001b[0mfun\u001b[0m\u001b[1;33m(\u001b[0m\u001b[0mx\u001b[0m\u001b[1;33m,\u001b[0m \u001b[1;33m*\u001b[0m\u001b[0margs\u001b[0m\u001b[1;33m)\u001b[0m\u001b[1;33m\u001b[0m\u001b[1;33m\u001b[0m\u001b[0m\n\u001b[0m\u001b[0;32m     69\u001b[0m             \u001b[0mself\u001b[0m\u001b[1;33m.\u001b[0m\u001b[0mjac\u001b[0m \u001b[1;33m=\u001b[0m \u001b[0mfg\u001b[0m\u001b[1;33m[\u001b[0m\u001b[1;36m1\u001b[0m\u001b[1;33m]\u001b[0m\u001b[1;33m\u001b[0m\u001b[1;33m\u001b[0m\u001b[0m\n\u001b[0;32m     70\u001b[0m             \u001b[0mself\u001b[0m\u001b[1;33m.\u001b[0m\u001b[0m_value\u001b[0m \u001b[1;33m=\u001b[0m \u001b[0mfg\u001b[0m\u001b[1;33m[\u001b[0m\u001b[1;36m0\u001b[0m\u001b[1;33m]\u001b[0m\u001b[1;33m\u001b[0m\u001b[1;33m\u001b[0m\u001b[0m\n",
      "\u001b[1;32mD:\\Anaconda3\\envs\\materials\\lib\\site-packages\\gpflow\\optimizers\\scipy.py\u001b[0m in \u001b[0;36m_eval\u001b[1;34m(x)\u001b[0m\n\u001b[0;32m    135\u001b[0m \u001b[1;33m\u001b[0m\u001b[0m\n\u001b[0;32m    136\u001b[0m         \u001b[1;32mdef\u001b[0m \u001b[0m_eval\u001b[0m\u001b[1;33m(\u001b[0m\u001b[0mx\u001b[0m\u001b[1;33m:\u001b[0m \u001b[0mnp\u001b[0m\u001b[1;33m.\u001b[0m\u001b[0mndarray\u001b[0m\u001b[1;33m)\u001b[0m \u001b[1;33m->\u001b[0m \u001b[0mTuple\u001b[0m\u001b[1;33m[\u001b[0m\u001b[0mnp\u001b[0m\u001b[1;33m.\u001b[0m\u001b[0mndarray\u001b[0m\u001b[1;33m,\u001b[0m \u001b[0mnp\u001b[0m\u001b[1;33m.\u001b[0m\u001b[0mndarray\u001b[0m\u001b[1;33m]\u001b[0m\u001b[1;33m:\u001b[0m\u001b[1;33m\u001b[0m\u001b[1;33m\u001b[0m\u001b[0m\n\u001b[1;32m--> 137\u001b[1;33m             \u001b[0mloss\u001b[0m\u001b[1;33m,\u001b[0m \u001b[0mgrad\u001b[0m \u001b[1;33m=\u001b[0m \u001b[0m_tf_eval\u001b[0m\u001b[1;33m(\u001b[0m\u001b[0mtf\u001b[0m\u001b[1;33m.\u001b[0m\u001b[0mconvert_to_tensor\u001b[0m\u001b[1;33m(\u001b[0m\u001b[0mx\u001b[0m\u001b[1;33m)\u001b[0m\u001b[1;33m)\u001b[0m\u001b[1;33m\u001b[0m\u001b[1;33m\u001b[0m\u001b[0m\n\u001b[0m\u001b[0;32m    138\u001b[0m             \u001b[1;32mreturn\u001b[0m \u001b[0mloss\u001b[0m\u001b[1;33m.\u001b[0m\u001b[0mnumpy\u001b[0m\u001b[1;33m(\u001b[0m\u001b[1;33m)\u001b[0m\u001b[1;33m.\u001b[0m\u001b[0mastype\u001b[0m\u001b[1;33m(\u001b[0m\u001b[0mnp\u001b[0m\u001b[1;33m.\u001b[0m\u001b[0mfloat64\u001b[0m\u001b[1;33m)\u001b[0m\u001b[1;33m,\u001b[0m \u001b[0mgrad\u001b[0m\u001b[1;33m.\u001b[0m\u001b[0mnumpy\u001b[0m\u001b[1;33m(\u001b[0m\u001b[1;33m)\u001b[0m\u001b[1;33m.\u001b[0m\u001b[0mastype\u001b[0m\u001b[1;33m(\u001b[0m\u001b[0mnp\u001b[0m\u001b[1;33m.\u001b[0m\u001b[0mfloat64\u001b[0m\u001b[1;33m)\u001b[0m\u001b[1;33m\u001b[0m\u001b[1;33m\u001b[0m\u001b[0m\n\u001b[0;32m    139\u001b[0m \u001b[1;33m\u001b[0m\u001b[0m\n",
      "\u001b[1;32mD:\\Anaconda3\\envs\\materials\\lib\\site-packages\\tensorflow\\python\\util\\traceback_utils.py\u001b[0m in \u001b[0;36merror_handler\u001b[1;34m(*args, **kwargs)\u001b[0m\n\u001b[0;32m    151\u001b[0m     \u001b[1;32mexcept\u001b[0m \u001b[0mException\u001b[0m \u001b[1;32mas\u001b[0m \u001b[0me\u001b[0m\u001b[1;33m:\u001b[0m\u001b[1;33m\u001b[0m\u001b[1;33m\u001b[0m\u001b[0m\n\u001b[0;32m    152\u001b[0m       \u001b[0mfiltered_tb\u001b[0m \u001b[1;33m=\u001b[0m \u001b[0m_process_traceback_frames\u001b[0m\u001b[1;33m(\u001b[0m\u001b[0me\u001b[0m\u001b[1;33m.\u001b[0m\u001b[0m__traceback__\u001b[0m\u001b[1;33m)\u001b[0m\u001b[1;33m\u001b[0m\u001b[1;33m\u001b[0m\u001b[0m\n\u001b[1;32m--> 153\u001b[1;33m       \u001b[1;32mraise\u001b[0m \u001b[0me\u001b[0m\u001b[1;33m.\u001b[0m\u001b[0mwith_traceback\u001b[0m\u001b[1;33m(\u001b[0m\u001b[0mfiltered_tb\u001b[0m\u001b[1;33m)\u001b[0m \u001b[1;32mfrom\u001b[0m \u001b[1;32mNone\u001b[0m\u001b[1;33m\u001b[0m\u001b[1;33m\u001b[0m\u001b[0m\n\u001b[0m\u001b[0;32m    154\u001b[0m     \u001b[1;32mfinally\u001b[0m\u001b[1;33m:\u001b[0m\u001b[1;33m\u001b[0m\u001b[1;33m\u001b[0m\u001b[0m\n\u001b[0;32m    155\u001b[0m       \u001b[1;32mdel\u001b[0m \u001b[0mfiltered_tb\u001b[0m\u001b[1;33m\u001b[0m\u001b[1;33m\u001b[0m\u001b[0m\n",
      "\u001b[1;32mD:\\Anaconda3\\envs\\materials\\lib\\site-packages\\tensorflow\\python\\eager\\execute.py\u001b[0m in \u001b[0;36mquick_execute\u001b[1;34m(op_name, num_outputs, inputs, attrs, ctx, name)\u001b[0m\n\u001b[0;32m     57\u001b[0m     \u001b[0mctx\u001b[0m\u001b[1;33m.\u001b[0m\u001b[0mensure_initialized\u001b[0m\u001b[1;33m(\u001b[0m\u001b[1;33m)\u001b[0m\u001b[1;33m\u001b[0m\u001b[1;33m\u001b[0m\u001b[0m\n\u001b[0;32m     58\u001b[0m     tensors = pywrap_tfe.TFE_Py_Execute(ctx._handle, device_name, op_name,\n\u001b[1;32m---> 59\u001b[1;33m                                         inputs, attrs, num_outputs)\n\u001b[0m\u001b[0;32m     60\u001b[0m   \u001b[1;32mexcept\u001b[0m \u001b[0mcore\u001b[0m\u001b[1;33m.\u001b[0m\u001b[0m_NotOkStatusException\u001b[0m \u001b[1;32mas\u001b[0m \u001b[0me\u001b[0m\u001b[1;33m:\u001b[0m\u001b[1;33m\u001b[0m\u001b[1;33m\u001b[0m\u001b[0m\n\u001b[0;32m     61\u001b[0m     \u001b[1;32mif\u001b[0m \u001b[0mname\u001b[0m \u001b[1;32mis\u001b[0m \u001b[1;32mnot\u001b[0m \u001b[1;32mNone\u001b[0m\u001b[1;33m:\u001b[0m\u001b[1;33m\u001b[0m\u001b[1;33m\u001b[0m\u001b[0m\n",
      "\u001b[1;31mResourceExhaustedError\u001b[0m:  OOM when allocating tensor with shape[15584,15584] and type double on /job:localhost/replica:0/task:0/device:GPU:0 by allocator GPU_0_bfc\n\t [[node gradient_tape/eye/diag\n (defined at D:\\Anaconda3\\envs\\materials\\lib\\site-packages\\gpflow\\optimizers\\scipy.py:225)\n]]\nHint: If you want to see a list of allocated tensors when OOM happens, add report_tensor_allocations_upon_oom to RunOptions for current allocation info. This isn't available when running in Eager mode.\n [Op:__inference__tf_eval_555]\n\nErrors may have originated from an input operation.\nInput Source operations connected to node gradient_tape/eye/diag:\nIn[0] gradient_tape/eye/ones:\t\nIn[1] gradient_tape/eye/diag/k:\t\nIn[2] gradient_tape/eye/diag/num_rows:\t\nIn[3] gradient_tape/eye/diag/num_cols:\t\nIn[4] gradient_tape/eye/diag/padding_value:\n\nOperation defined at: (most recent call last)\n>>>   File \"D:\\Anaconda3\\envs\\materials\\lib\\runpy.py\", line 193, in _run_module_as_main\n>>>     \"__main__\", mod_spec)\n>>> \n>>>   File \"D:\\Anaconda3\\envs\\materials\\lib\\runpy.py\", line 85, in _run_code\n>>>     exec(code, run_globals)\n>>> \n>>>   File \"D:\\Anaconda3\\envs\\materials\\lib\\site-packages\\ipykernel_launcher.py\", line 16, in <module>\n>>>     app.launch_new_instance()\n>>> \n>>>   File \"D:\\Anaconda3\\envs\\materials\\lib\\site-packages\\traitlets\\config\\application.py\", line 846, in launch_instance\n>>>     app.start()\n>>> \n>>>   File \"D:\\Anaconda3\\envs\\materials\\lib\\site-packages\\ipykernel\\kernelapp.py\", line 677, in start\n>>>     self.io_loop.start()\n>>> \n>>>   File \"D:\\Anaconda3\\envs\\materials\\lib\\site-packages\\tornado\\platform\\asyncio.py\", line 199, in start\n>>>     self.asyncio_loop.run_forever()\n>>> \n>>>   File \"D:\\Anaconda3\\envs\\materials\\lib\\asyncio\\base_events.py\", line 541, in run_forever\n>>>     self._run_once()\n>>> \n>>>   File \"D:\\Anaconda3\\envs\\materials\\lib\\asyncio\\base_events.py\", line 1786, in _run_once\n>>>     handle._run()\n>>> \n>>>   File \"D:\\Anaconda3\\envs\\materials\\lib\\asyncio\\events.py\", line 88, in _run\n>>>     self._context.run(self._callback, *self._args)\n>>> \n>>>   File \"D:\\Anaconda3\\envs\\materials\\lib\\site-packages\\ipykernel\\kernelbase.py\", line 461, in dispatch_queue\n>>>     await self.process_one()\n>>> \n>>>   File \"D:\\Anaconda3\\envs\\materials\\lib\\site-packages\\ipykernel\\kernelbase.py\", line 450, in process_one\n>>>     await dispatch(*args)\n>>> \n>>>   File \"D:\\Anaconda3\\envs\\materials\\lib\\site-packages\\ipykernel\\kernelbase.py\", line 357, in dispatch_shell\n>>>     await result\n>>> \n>>>   File \"D:\\Anaconda3\\envs\\materials\\lib\\site-packages\\ipykernel\\kernelbase.py\", line 652, in execute_request\n>>>     reply_content = await reply_content\n>>> \n>>>   File \"D:\\Anaconda3\\envs\\materials\\lib\\site-packages\\ipykernel\\ipkernel.py\", line 353, in do_execute\n>>>     res = shell.run_cell(code, store_history=store_history, silent=silent)\n>>> \n>>>   File \"D:\\Anaconda3\\envs\\materials\\lib\\site-packages\\ipykernel\\zmqshell.py\", line 532, in run_cell\n>>>     return super().run_cell(*args, **kwargs)\n>>> \n>>>   File \"D:\\Anaconda3\\envs\\materials\\lib\\site-packages\\IPython\\core\\interactiveshell.py\", line 2915, in run_cell\n>>>     raw_cell, store_history, silent, shell_futures)\n>>> \n>>>   File \"D:\\Anaconda3\\envs\\materials\\lib\\site-packages\\IPython\\core\\interactiveshell.py\", line 2960, in _run_cell\n>>>     return runner(coro)\n>>> \n>>>   File \"D:\\Anaconda3\\envs\\materials\\lib\\site-packages\\IPython\\core\\async_helpers.py\", line 78, in _pseudo_sync_runner\n>>>     coro.send(None)\n>>> \n>>>   File \"D:\\Anaconda3\\envs\\materials\\lib\\site-packages\\IPython\\core\\interactiveshell.py\", line 3186, in run_cell_async\n>>>     interactivity=interactivity, compiler=compiler, result=result)\n>>> \n>>>   File \"D:\\Anaconda3\\envs\\materials\\lib\\site-packages\\IPython\\core\\interactiveshell.py\", line 3377, in run_ast_nodes\n>>>     if (await self.run_code(code, result,  async_=asy)):\n>>> \n>>>   File \"D:\\Anaconda3\\envs\\materials\\lib\\site-packages\\IPython\\core\\interactiveshell.py\", line 3457, in run_code\n>>>     exec(code_obj, self.user_global_ns, self.user_ns)\n>>> \n>>>   File \"C:\\Users\\rhjva\\AppData\\Local\\Temp\\ipykernel_27708\\2416576693.py\", line 5, in <module>\n>>>     optimizer.minimize(closure, model.trainable_variables, options=dict(maxiter=10000))\n>>> \n>>>   File \"D:\\Anaconda3\\envs\\materials\\lib\\site-packages\\gpflow\\optimizers\\scipy.py\", line 96, in minimize\n>>>     func, initial_params, jac=True, method=method, **scipy_kwargs\n>>> \n>>>   File \"D:\\Anaconda3\\envs\\materials\\lib\\site-packages\\scipy\\optimize\\_minimize.py\", line 624, in minimize\n>>>     callback=callback, **options)\n>>> \n>>>   File \"D:\\Anaconda3\\envs\\materials\\lib\\site-packages\\scipy\\optimize\\lbfgsb.py\", line 308, in _minimize_lbfgsb\n>>>     finite_diff_rel_step=finite_diff_rel_step)\n>>> \n>>>   File \"D:\\Anaconda3\\envs\\materials\\lib\\site-packages\\scipy\\optimize\\optimize.py\", line 262, in _prepare_scalar_function\n>>>     finite_diff_rel_step, bounds, epsilon=epsilon)\n>>> \n>>>   File \"D:\\Anaconda3\\envs\\materials\\lib\\site-packages\\scipy\\optimize\\_differentiable_functions.py\", line 140, in __init__\n>>>     self._update_fun()\n>>> \n>>>   File \"D:\\Anaconda3\\envs\\materials\\lib\\site-packages\\scipy\\optimize\\_differentiable_functions.py\", line 233, in _update_fun\n>>>     self._update_fun_impl()\n>>> \n>>>   File \"D:\\Anaconda3\\envs\\materials\\lib\\site-packages\\scipy\\optimize\\_differentiable_functions.py\", line 137, in update_fun\n>>>     self.f = fun_wrapped(self.x)\n>>> \n>>>   File \"D:\\Anaconda3\\envs\\materials\\lib\\site-packages\\scipy\\optimize\\_differentiable_functions.py\", line 134, in fun_wrapped\n>>>     return fun(np.copy(x), *args)\n>>> \n>>>   File \"D:\\Anaconda3\\envs\\materials\\lib\\site-packages\\scipy\\optimize\\optimize.py\", line 74, in __call__\n>>>     self._compute_if_needed(x, *args)\n>>> \n>>>   File \"D:\\Anaconda3\\envs\\materials\\lib\\site-packages\\scipy\\optimize\\optimize.py\", line 68, in _compute_if_needed\n>>>     fg = self.fun(x, *args)\n>>> \n>>>   File \"D:\\Anaconda3\\envs\\materials\\lib\\site-packages\\gpflow\\optimizers\\scipy.py\", line 137, in _eval\n>>>     loss, grad = _tf_eval(tf.convert_to_tensor(x))\n>>> \n>>>   File \"D:\\Anaconda3\\envs\\materials\\lib\\site-packages\\gpflow\\optimizers\\scipy.py\", line 119, in _tf_eval\n>>>     if first_call:\n>>> \n>>>   File \"D:\\Anaconda3\\envs\\materials\\lib\\site-packages\\gpflow\\optimizers\\scipy.py\", line 121, in _tf_eval\n>>>     loss, grads = _compute_loss_and_gradients(\n>>> \n>>>   File \"D:\\Anaconda3\\envs\\materials\\lib\\site-packages\\gpflow\\optimizers\\scipy.py\", line 225, in _compute_loss_and_gradients\n>>>     grads = tape.gradient(loss, variables, unconnected_gradients=unconnected_gradients)\n>>> "
     ]
    }
   ],
   "source": [
    "model = gpflow.models.GPR(data=(X_train, y_train), mean_function=gpflow.mean_functions.Constant(np.mean(y_train)), kernel=gpflow.kernels.RBF(), noise_variance=1)\n",
    "optimizer = gpflow.optimizers.Scipy()\n",
    "def closure():\n",
    "    return -model.log_marginal_likelihood()\n",
    "optimizer.minimize(closure, model.trainable_variables, options=dict(maxiter=10000))"
   ]
  },
  {
   "cell_type": "code",
   "execution_count": null,
   "metadata": {},
   "outputs": [],
   "source": [
    "y_mean, y_var = model.predict_f(X_test)\n",
    "pred_test = y_scaler.inverse_transform(y_mean)\n",
    "y_test = y_scaler.inverse_transform(y_test.reshape(-1, 1))"
   ]
  },
  {
   "cell_type": "code",
   "execution_count": null,
   "metadata": {},
   "outputs": [],
   "source": [
    "r2 = r2_score(y_test, pred_test)\n",
    "mse = mean_squared_error(y_test, pred_test)\n",
    "mae = mean_absolute_error(y_test, pred_test)\n",
    "print(f'R^2: {r2:.3f} \\n mse: {mse:.3f} eV/atom \\n mae: {mae:.3f} eV/atom')"
   ]
  },
  {
   "cell_type": "code",
   "execution_count": null,
   "metadata": {},
   "outputs": [],
   "source": [
    "fig, ax = plt.subplots(figsize=[8,5],dpi=100)\n",
    "ax.scatter(y_test, pred_test, color='blue',label='Test Predictions')\n",
    "acc = np.linspace(min(y),max(y),1000)\n",
    "ax.plot(acc,acc,color='k',label='Accuracy')\n",
    "ax.set_xlabel('Formation energy / atom (eV)')\n",
    "ax.set_ylabel('Formation energy / atom (eV)')\n",
    "plt.legend()"
   ]
  },
  {
   "cell_type": "markdown",
   "metadata": {},
   "source": [
    "### lets now use some structural features as well"
   ]
  },
  {
   "cell_type": "code",
   "execution_count": 13,
   "metadata": {},
   "outputs": [],
   "source": [
    "data = pd.read_csv('Li_materials.csv')"
   ]
  },
  {
   "cell_type": "code",
   "execution_count": 18,
   "metadata": {},
   "outputs": [
    {
     "name": "stderr",
     "output_type": "stream",
     "text": [
      "StrToComposition: 100%|██████████| 19480/19480 [00:21<00:00, 893.08it/s] \n"
     ]
    }
   ],
   "source": [
    "import ast\n",
    "chemical_formulas = [''.join([key + str(int(val)) for key, val in ast.literal_eval(formula).items()]) for formula in data[\"formula\"]]\n",
    "data.insert(loc=2, column='chemical_formula', value=chemical_formulas)\n",
    "data = StrToComposition().featurize_dataframe(data, \"chemical_formula\", ignore_errors=True)"
   ]
  },
  {
   "cell_type": "code",
   "execution_count": 15,
   "metadata": {},
   "outputs": [],
   "source": [
    "from pymatgen.io.cif import CifParser\n",
    "structures = [CifParser.from_string(cif).get_structures()[0] for cif in data['cif']]"
   ]
  },
  {
   "cell_type": "code",
   "execution_count": 17,
   "metadata": {},
   "outputs": [
    {
     "data": {
      "text/plain": [
       "SineCoulombMatrix()"
      ]
     },
     "execution_count": 17,
     "metadata": {},
     "output_type": "execute_result"
    }
   ],
   "source": [
    "featurizer = SineCoulombMatrix()\n",
    "featurizer.fit(structures)"
   ]
  },
  {
   "cell_type": "code",
   "execution_count": 22,
   "metadata": {},
   "outputs": [
    {
     "name": "stderr",
     "output_type": "stream",
     "text": [
      "D:\\Anaconda3\\envs\\materials\\lib\\site-packages\\matminer\\featurizers\\structure\\matrix.py:207: ComplexWarning: Casting complex values to real discards the imaginary part\n",
      "  zeros[: len(eigs)] = eigs\n"
     ]
    },
    {
     "name": "stdout",
     "output_type": "stream",
     "text": [
      "                                                         0         1    \\\n",
      "[[-1.53876913 -0.88840877 -3.69221025] Li, [-1....  7.859222  6.107388   \n",
      "[[ 3.45333136  2.04962262 -6.03983166] Li, [ 0....  8.321784  6.424262   \n",
      "[[0. 0. 0.] Li]                                     6.983305  0.000000   \n",
      "[[0. 0. 0.] Li, [-2.45264398  1.41603467 -1.444...  6.051960  9.209178   \n",
      "[[0. 0. 0.] Li, [-1.53553505 -0.88654157 -7.369...  9.217137  6.498588   \n",
      "\n",
      "                                                         2         3    4    \\\n",
      "[[-1.53876913 -0.88840877 -3.69221025] Li, [-1....  0.000000  0.000000  0.0   \n",
      "[[ 3.45333136  2.04962262 -6.03983166] Li, [ 0....  6.203870  0.000000  0.0   \n",
      "[[0. 0. 0.] Li]                                     0.000000  0.000000  0.0   \n",
      "[[0. 0. 0.] Li, [-2.45264398  1.41603467 -1.444...  5.688777  0.000000  0.0   \n",
      "[[0. 0. 0.] Li, [-1.53553505 -0.88654157 -7.369...  5.706114  6.511382  0.0   \n",
      "\n",
      "                                                    5    6    7    8    9    \\\n",
      "[[-1.53876913 -0.88840877 -3.69221025] Li, [-1....  0.0  0.0  0.0  0.0  0.0   \n",
      "[[ 3.45333136  2.04962262 -6.03983166] Li, [ 0....  0.0  0.0  0.0  0.0  0.0   \n",
      "[[0. 0. 0.] Li]                                     0.0  0.0  0.0  0.0  0.0   \n",
      "[[0. 0. 0.] Li, [-2.45264398  1.41603467 -1.444...  0.0  0.0  0.0  0.0  0.0   \n",
      "[[0. 0. 0.] Li, [-1.53553505 -0.88654157 -7.369...  0.0  0.0  0.0  0.0  0.0   \n",
      "\n",
      "                                                    ...  382  383  384  385  \\\n",
      "[[-1.53876913 -0.88840877 -3.69221025] Li, [-1....  ...  0.0  0.0  0.0  0.0   \n",
      "[[ 3.45333136  2.04962262 -6.03983166] Li, [ 0....  ...  0.0  0.0  0.0  0.0   \n",
      "[[0. 0. 0.] Li]                                     ...  0.0  0.0  0.0  0.0   \n",
      "[[0. 0. 0.] Li, [-2.45264398  1.41603467 -1.444...  ...  0.0  0.0  0.0  0.0   \n",
      "[[0. 0. 0.] Li, [-1.53553505 -0.88654157 -7.369...  ...  0.0  0.0  0.0  0.0   \n",
      "\n",
      "                                                    386  387  388  389  390  \\\n",
      "[[-1.53876913 -0.88840877 -3.69221025] Li, [-1....  0.0  0.0  0.0  0.0  0.0   \n",
      "[[ 3.45333136  2.04962262 -6.03983166] Li, [ 0....  0.0  0.0  0.0  0.0  0.0   \n",
      "[[0. 0. 0.] Li]                                     0.0  0.0  0.0  0.0  0.0   \n",
      "[[0. 0. 0.] Li, [-2.45264398  1.41603467 -1.444...  0.0  0.0  0.0  0.0  0.0   \n",
      "[[0. 0. 0.] Li, [-1.53553505 -0.88654157 -7.369...  0.0  0.0  0.0  0.0  0.0   \n",
      "\n",
      "                                                    391  \n",
      "[[-1.53876913 -0.88840877 -3.69221025] Li, [-1....  0.0  \n",
      "[[ 3.45333136  2.04962262 -6.03983166] Li, [ 0....  0.0  \n",
      "[[0. 0. 0.] Li]                                     0.0  \n",
      "[[0. 0. 0.] Li, [-2.45264398  1.41603467 -1.444...  0.0  \n",
      "[[0. 0. 0.] Li, [-1.53553505 -0.88654157 -7.369...  0.0  \n",
      "\n",
      "[5 rows x 392 columns]\n"
     ]
    }
   ],
   "source": [
    "str_features = []\n",
    "\n",
    "for structure in structures:\n",
    "  str_features.append(featurizer.featurize(structure))\n",
    "  \n",
    "X = pd.DataFrame(str_features, index=structures)\n",
    "# X = featurizer.featurize_dataframe(data, col_id=\"composition\")\n",
    "print(X.head(5))"
   ]
  },
  {
   "cell_type": "code",
   "execution_count": 23,
   "metadata": {},
   "outputs": [],
   "source": [
    "X.to_csv('./Li_materials_structural_features.csv')"
   ]
  },
  {
   "cell_type": "code",
   "execution_count": 32,
   "metadata": {},
   "outputs": [],
   "source": [
    "X = pd.read_csv('./Li_materials_structural_features.csv')\n",
    "x_scaler = StandardScaler()\n",
    "X = x_scaler.fit_transform(X.to_numpy()[:, 1:])"
   ]
  },
  {
   "cell_type": "code",
   "execution_count": 33,
   "metadata": {},
   "outputs": [],
   "source": [
    "data = pd.read_csv('Li_materials.csv')\n",
    "y = data['formation_energy_per_atom']\n",
    "y_scaler = StandardScaler()\n",
    "y = y_scaler.fit_transform(y.to_numpy().reshape(-1, 1))"
   ]
  },
  {
   "cell_type": "code",
   "execution_count": 34,
   "metadata": {},
   "outputs": [
    {
     "name": "stdout",
     "output_type": "stream",
     "text": [
      "(19480, 392) (19480, 1)\n"
     ]
    }
   ],
   "source": [
    "print(X.shape, y.shape)"
   ]
  },
  {
   "cell_type": "code",
   "execution_count": 35,
   "metadata": {},
   "outputs": [
    {
     "name": "stderr",
     "output_type": "stream",
     "text": [
      "D:\\Anaconda3\\envs\\materials\\lib\\site-packages\\ipykernel_launcher.py:4: DataConversionWarning: A column-vector y was passed when a 1d array was expected. Please change the shape of y to (n_samples,), for example using ravel().\n",
      "  after removing the cwd from sys.path.\n"
     ]
    },
    {
     "data": {
      "text/plain": [
       "RandomForestRegressor(n_estimators=500, random_state=128)"
      ]
     },
     "execution_count": 35,
     "metadata": {},
     "output_type": "execute_result"
    }
   ],
   "source": [
    "X_train, X_test, y_train, y_test = train_test_split(X, y, test_size=0.2, random_state=32)\n",
    "\n",
    "rf = RandomForestRegressor(n_estimators=500, random_state=128)\n",
    "rf.fit(X_train,y_train)"
   ]
  },
  {
   "cell_type": "code",
   "execution_count": 36,
   "metadata": {},
   "outputs": [],
   "source": [
    "pred_test = y_scaler.inverse_transform(rf.predict(X_test).reshape(-1, 1))\n",
    "y_test = y_scaler.inverse_transform(y_test.reshape(-1, 1))"
   ]
  },
  {
   "cell_type": "code",
   "execution_count": 37,
   "metadata": {},
   "outputs": [
    {
     "name": "stdout",
     "output_type": "stream",
     "text": [
      "R^2: 0.835 \n",
      " mse: 0.123 eV/atom \n",
      " mae: 0.170 eV/atom\n"
     ]
    }
   ],
   "source": [
    "r2 = r2_score(y_test, pred_test)\n",
    "mse = mean_squared_error(y_test, pred_test)\n",
    "mae = mean_absolute_error(y_test, pred_test)\n",
    "print(f'R^2: {r2:.3f} \\n mse: {mse:.3f} eV/atom \\n mae: {mae:.3f} eV/atom')"
   ]
  },
  {
   "cell_type": "code",
   "execution_count": 38,
   "metadata": {},
   "outputs": [
    {
     "data": {
      "text/plain": [
       "<matplotlib.legend.Legend at 0x268ad829808>"
      ]
     },
     "execution_count": 38,
     "metadata": {},
     "output_type": "execute_result"
    },
    {
     "data": {
      "image/png": "[encoded data removed]",
      "text/plain": [
       "<Figure size 800x500 with 1 Axes>"
      ]
     },
     "metadata": {
      "needs_background": "light"
     },
     "output_type": "display_data"
    }
   ],
   "source": [
    "fig, ax = plt.subplots(figsize=[8,5],dpi=100)\n",
    "ax.scatter(y_test, pred_test, color='blue',label='Test Predictions')\n",
    "acc = np.linspace(min(y),max(y),1000)\n",
    "ax.plot(acc,acc,color='k',label='Accuracy')\n",
    "ax.set_xlabel('Formation energy / atom (eV)')\n",
    "ax.set_ylabel('Formation energy / atom (eV)')\n",
    "plt.legend()"
   ]
  },
  {
   "cell_type": "markdown",
   "metadata": {},
   "source": [
    "### Now let's test on both structural and composition features"
   ]
  },
  {
   "cell_type": "code",
   "execution_count": 43,
   "metadata": {},
   "outputs": [],
   "source": [
    "X_struc = pd.read_csv('./Li_materials_structural_features.csv').to_numpy()[:, 1:]\n",
    "X_elem = pd.read_csv('./Li_materials_elemental_features.csv').to_numpy()\n",
    "X = np.concatenate((X_struc, X_elem), axis=1)"
   ]
  },
  {
   "cell_type": "code",
   "execution_count": 44,
   "metadata": {},
   "outputs": [],
   "source": [
    "x_scaler = StandardScaler()\n",
    "X = x_scaler.fit_transform(X)"
   ]
  },
  {
   "cell_type": "code",
   "execution_count": 45,
   "metadata": {},
   "outputs": [],
   "source": [
    "data = pd.read_csv('./Li_materials.csv')\n",
    "y = data['formation_energy_per_atom']\n",
    "y_scaler = StandardScaler()\n",
    "y = y_scaler.fit_transform(y.to_numpy().reshape(-1, 1))"
   ]
  },
  {
   "cell_type": "code",
   "execution_count": 46,
   "metadata": {},
   "outputs": [
    {
     "name": "stdout",
     "output_type": "stream",
     "text": [
      "(19480, 525) (19480, 1)\n"
     ]
    }
   ],
   "source": [
    "print(X.shape, y.shape)"
   ]
  },
  {
   "cell_type": "code",
   "execution_count": 47,
   "metadata": {},
   "outputs": [
    {
     "name": "stderr",
     "output_type": "stream",
     "text": [
      "D:\\Anaconda3\\envs\\materials\\lib\\site-packages\\ipykernel_launcher.py:4: DataConversionWarning: A column-vector y was passed when a 1d array was expected. Please change the shape of y to (n_samples,), for example using ravel().\n",
      "  after removing the cwd from sys.path.\n"
     ]
    },
    {
     "data": {
      "text/plain": [
       "RandomForestRegressor(n_estimators=500, random_state=128)"
      ]
     },
     "execution_count": 47,
     "metadata": {},
     "output_type": "execute_result"
    }
   ],
   "source": [
    "X_train, X_test, y_train, y_test = train_test_split(X, y, test_size=0.2, random_state=32)\n",
    "\n",
    "rf = RandomForestRegressor(n_estimators=500, random_state=128)\n",
    "rf.fit(X_train,y_train)"
   ]
  },
  {
   "cell_type": "code",
   "execution_count": 48,
   "metadata": {},
   "outputs": [],
   "source": [
    "pred_test = y_scaler.inverse_transform(rf.predict(X_test).reshape(-1, 1))\n",
    "y_test = y_scaler.inverse_transform(y_test.reshape(-1, 1))"
   ]
  },
  {
   "cell_type": "code",
   "execution_count": 49,
   "metadata": {},
   "outputs": [
    {
     "name": "stdout",
     "output_type": "stream",
     "text": [
      "R^2: 0.902 \n",
      " mse: 0.073 eV/atom \n",
      " mae: 0.093 eV/atom\n"
     ]
    }
   ],
   "source": [
    "r2 = r2_score(y_test, pred_test)\n",
    "mse = mean_squared_error(y_test, pred_test)\n",
    "mae = mean_absolute_error(y_test, pred_test)\n",
    "print(f'R^2: {r2:.3f} \\n mse: {mse:.3f} eV/atom \\n mae: {mae:.3f} eV/atom')"
   ]
  },
  {
   "cell_type": "code",
   "execution_count": 50,
   "metadata": {},
   "outputs": [
    {
     "data": {
      "text/plain": [
       "<matplotlib.legend.Legend at 0x26886976d88>"
      ]
     },
     "execution_count": 50,
     "metadata": {},
     "output_type": "execute_result"
    },
    {
     "data": {
      "image/png": "[encoded data removed]",
      "text/plain": [
       "<Figure size 800x500 with 1 Axes>"
      ]
     },
     "metadata": {
      "needs_background": "light"
     },
     "output_type": "display_data"
    }
   ],
   "source": [
    "fig, ax = plt.subplots(figsize=[8,5],dpi=100)\n",
    "ax.scatter(y_test, pred_test, color='blue',label='Test Predictions')\n",
    "acc = np.linspace(min(y),max(y),1000)\n",
    "ax.plot(acc,acc,color='k',label='Accuracy')\n",
    "ax.set_xlabel('Formation energy / atom (eV)')\n",
    "ax.set_ylabel('Formation energy / atom (eV)')\n",
    "plt.legend()"
   ]
  },
  {
   "cell_type": "code",
   "execution_count": null,
   "metadata": {},
   "outputs": [],
   "source": []
  }
 ],
 "metadata": {
  "interpreter": {
   "hash": "6967240968a5a5596503df1699ac430f64b0229188d7f1a9238d66ae6747f877"
  },
  "kernelspec": {
   "display_name": "Python 3.7.12 64-bit ('materials': conda)",
   "language": "python",
   "name": "python3"
  },
  "language_info": {
   "codemirror_mode": {
    "name": "ipython",
    "version": 3
   },
   "file_extension": ".py",
   "mimetype": "text/x-python",
   "name": "python",
   "nbconvert_exporter": "python",
   "pygments_lexer": "ipython3",
   "version": "3.7.12"
  },
  "orig_nbformat": 4
 },
 "nbformat": 4,
 "nbformat_minor": 2
}
